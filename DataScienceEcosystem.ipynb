{
 "cells": [
  {
   "cell_type": "markdown",
   "id": "b3ab7d62",
   "metadata": {},
   "source": [
    "# Data Science Tools and Ecosystem\n",
    "\n",
    "In this notebook, Data Science Tools and Ecosystem are summarized."
   ]
  },
  {
   "cell_type": "markdown",
   "id": "b3c428bd",
   "metadata": {},
   "source": [
    "**Objectives:**\n",
    "\n",
    "* Introduction to Data science tools\n",
    "* Introduction to Languages in Datascience R SQL Python\n",
    "* Libraries AP1 and Dataset\n",
    "* Jupyter notebook ,jupyterLab\n",
    "* R Studio & Github"
   ]
  },
  {
   "cell_type": "markdown",
   "id": "6aaa8ba2",
   "metadata": {},
   "source": [
    "Some of the popular languages that Data Scientists use are:\n",
    "\n",
    "1. Perl\n",
    "2. R\n",
    "3. Python\n",
    "4. Java"
   ]
  },
  {
   "cell_type": "markdown",
   "id": "4acb2cd2",
   "metadata": {},
   "source": [
    "Some of the commonly used libraries used by Data Scientists include:\n",
    "\n",
    "1. Pandas\n",
    "2. Seaborn\n",
    "3. numpy"
   ]
  },
  {
   "cell_type": "markdown",
   "id": "cdce8ad0",
   "metadata": {},
   "source": [
    "|Data Science Tools|\n",
    "|------------------|\n",
    "| Jupyter|\n",
    "|SQL|\n",
    "|TensorFlow|"
   ]
  },
  {
   "cell_type": "markdown",
   "id": "33868068",
   "metadata": {},
   "source": [
    "## Below are a few examples of evaluating arithmetic expressions in Python\n"
   ]
  },
  {
   "cell_type": "code",
   "execution_count": 3,
   "id": "a53e31a7",
   "metadata": {},
   "outputs": [
    {
     "data": {
      "text/plain": [
       "17"
      ]
     },
     "execution_count": 3,
     "metadata": {},
     "output_type": "execute_result"
    }
   ],
   "source": [
    "#This a simple arithmetic expression to mutiply then add integer\n",
    "(3*4)+5"
   ]
  },
  {
   "cell_type": "markdown",
   "id": "5ceca376",
   "metadata": {},
   "source": [
    "**Create a code cell to convert minutes to hours**"
   ]
  },
  {
   "cell_type": "code",
   "execution_count": 7,
   "id": "1df8d16a",
   "metadata": {},
   "outputs": [
    {
     "data": {
      "text/plain": [
       "3.0"
      ]
     },
     "execution_count": 7,
     "metadata": {},
     "output_type": "execute_result"
    }
   ],
   "source": [
    "Inputmin=180\n",
    "OutHr=Inputmin/60\n",
    "OutHr"
   ]
  },
  {
   "cell_type": "markdown",
   "id": "fc2ab29e",
   "metadata": {},
   "source": [
    "## Author :\n",
    "Manikandan Vinu"
   ]
  }
 ],
 "metadata": {
  "kernelspec": {
   "display_name": "Python 3 (ipykernel)",
   "language": "python",
   "name": "python3"
  },
  "language_info": {
   "codemirror_mode": {
    "name": "ipython",
    "version": 3
   },
   "file_extension": ".py",
   "mimetype": "text/x-python",
   "name": "python",
   "nbconvert_exporter": "python",
   "pygments_lexer": "ipython3",
   "version": "3.11.7"
  }
 },
 "nbformat": 4,
 "nbformat_minor": 5
}
